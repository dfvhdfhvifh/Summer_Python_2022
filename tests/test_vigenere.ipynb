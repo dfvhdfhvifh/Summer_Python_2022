{
 "cells": [
  {
   "cell_type": "code",
   "execution_count": null,
   "id": "547e0561",
   "metadata": {},
   "outputs": [],
   "source": [
    "import random\n",
    "import string\n",
    "import unittest\n",
    "\n",
    "import vigenere\n",
    "\n",
    "\n",
    "class VigenereTestCase(unittest.TestCase):\n",
    "    def test_encrypt(self):\n",
    "        cases = [\n",
    "            (\"PYTHON\", \"A\", \"PYTHON\"),\n",
    "            (\"python\", \"a\", \"python\"),\n",
    "            (\"introduction to python\", \"lsci\", \"tfvzzvwkeaqv lq aqvpzf\"),\n",
    "            (\"ATTACKATDAWN\", \"LEMON\", \"LXFOPVEFRNHR\"),\n",
    "        ]\n",
    "\n",
    "        for i, (plaintext, keyword, chiphertext) in enumerate(cases):\n",
    "            with self.subTest(\n",
    "                case=i, plaintext=plaintext, keyword=keyword, chiphertext=chiphertext\n",
    "            ):\n",
    "                self.assertEqual(chiphertext, vigenere.encrypt_vigenere(plaintext, keyword))\n",
    "\n",
    "    def test_decrypt(self):\n",
    "        cases = [\n",
    "            (\"PYTHON\", \"A\", \"PYTHON\"),\n",
    "            (\"python\", \"a\", \"python\"),\n",
    "            (\"tfvzzvwkeaqv lq aqvpzf\", \"lsci\", \"introduction to python\"),\n",
    "            (\"LXFOPVEFRNHR\", \"LEMON\", \"ATTACKATDAWN\"),\n",
    "        ]\n",
    "\n",
    "        for i, (chiphertext, keyword, plaintext) in enumerate(cases):\n",
    "            with self.subTest(\n",
    "                case=i, chiphertext=chiphertext, keyword=keyword, plaintext=plaintext\n",
    "            ):\n",
    "                self.assertEqual(plaintext, vigenere.decrypt_vigenere(chiphertext, keyword))\n",
    "\n",
    "    def test_randomized(self):\n",
    "        kwlen = random.randint(4, 24)\n",
    "        keyword = ''.join(random.choice(string.ascii_letters) for _ in range(kwlen))\n",
    "        plaintext = ''.join(random.choice(string.ascii_letters + ' -,') for _ in range(64))\n",
    "        ciphertext = vigenere.encrypt_vigenere(plaintext, keyword)\n",
    "        self.assertEqual(plaintext, vigenere.decrypt_vigenere(ciphertext, keyword))"
   ]
  }
 ],
 "metadata": {
  "kernelspec": {
   "display_name": "Python 3",
   "language": "python",
   "name": "python3"
  },
  "language_info": {
   "codemirror_mode": {
    "name": "ipython",
    "version": 3
   },
   "file_extension": ".py",
   "mimetype": "text/x-python",
   "name": "python",
   "nbconvert_exporter": "python",
   "pygments_lexer": "ipython3",
   "version": "3.8.8"
  }
 },
 "nbformat": 4,
 "nbformat_minor": 5
}
