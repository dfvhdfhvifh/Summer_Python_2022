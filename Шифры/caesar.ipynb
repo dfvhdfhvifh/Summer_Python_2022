{
 "cells": [
  {
   "cell_type": "code",
   "execution_count": 81,
   "id": "164e69b7",
   "metadata": {},
   "outputs": [],
   "source": [
    "def encrypt_caesar(plaintext: str, shift: int = 3) -> str:\n",
    "    \"\"\"\n",
    "    Encrypts plaintext using a Caesar cipher.\n",
    "\n",
    "    >>> encrypt_caesar(\"PYTHON\")\n",
    "    'SBWKRQ'\n",
    "    >>> encrypt_caesar(\"python\")\n",
    "    'sbwkrq'\n",
    "    >>> encrypt_caesar(\"Python3.6\")\n",
    "    'Sbwkrq3.6'\n",
    "    >>> encrypt_caesar(\"\")\n",
    "    ''\n",
    "    \"\"\"\n",
    "    ciphertext = \"\"\n",
    "    for i in range(len(plaintext)):\n",
    "        number = ord(plaintext[i])\n",
    "        if plaintext[i].islower() and number < 120:\n",
    "            ciphertext += chr(number + shift)\n",
    "        elif plaintext[i].islower() and number >= 120:\n",
    "            ciphertext += chr(number - shift - 20)\n",
    "        elif plaintext[i].isupper() and number < 89:\n",
    "            ciphertext += chr(number + shift)\n",
    "        elif plaintext[i].isupper() and number >= 89: \n",
    "            ciphertext += chr(number - shift - 20)\n",
    "        else:\n",
    "            ciphertext += plaintext[i]\n",
    "    return ciphertext\n",
    "\n",
    "\n",
    "def decrypt_caesar(ciphertext: str, shift: int = 3) -> str:\n",
    "    \"\"\"\n",
    "    Decrypts a ciphertext using a Caesar cipher.\n",
    "\n",
    "    >>> decrypt_caesar(\"SBWKRQ\")\n",
    "    'PYTHON'\n",
    "    >>> decrypt_caesar(\"sbwkrq\")\n",
    "    'python'\n",
    "    >>> decrypt_caesar(\"Sbwkrq3.6\")\n",
    "    'Python3.6'\n",
    "    >>> decrypt_caesar(\"\")\n",
    "    ''\n",
    "    \"\"\"\n",
    "    plaintext = \"\"\n",
    "    for i in range(len(ciphertext)):\n",
    "        number = ord(ciphertext[i])\n",
    "        if ciphertext[i].islower() and number > 99:\n",
    "            plaintext += chr(number - shift)\n",
    "        elif ciphertext[i].islower() and number <= 99:\n",
    "            plaintext += chr(number + shift + 20)\n",
    "        elif ciphertext[i].isupper() and number > 67:\n",
    "            plaintext += chr(number - shift)\n",
    "        elif ciphertext[i].isupper() and number <= 67: \n",
    "            plaintext += chr(number + shift + 20)\n",
    "        else:\n",
    "            plaintext += ciphertext[i]\n",
    "    return plaintext"
   ]
  },
  {
   "cell_type": "code",
   "execution_count": null,
   "id": "9482c99c",
   "metadata": {},
   "outputs": [],
   "source": []
  },
  {
   "cell_type": "code",
   "execution_count": null,
   "id": "93c8fc76",
   "metadata": {},
   "outputs": [],
   "source": []
  },
  {
   "cell_type": "code",
   "execution_count": null,
   "id": "6cb46a89",
   "metadata": {},
   "outputs": [],
   "source": []
  },
  {
   "cell_type": "code",
   "execution_count": null,
   "id": "7d55dc31",
   "metadata": {},
   "outputs": [],
   "source": []
  }
 ],
 "metadata": {
  "kernelspec": {
   "display_name": "Python 3",
   "language": "python",
   "name": "python3"
  },
  "language_info": {
   "codemirror_mode": {
    "name": "ipython",
    "version": 3
   },
   "file_extension": ".py",
   "mimetype": "text/x-python",
   "name": "python",
   "nbconvert_exporter": "python",
   "pygments_lexer": "ipython3",
   "version": "3.8.8"
  }
 },
 "nbformat": 4,
 "nbformat_minor": 5
}
